{
 "cells": [
  {
   "cell_type": "code",
   "execution_count": 91,
   "metadata": {},
   "outputs": [],
   "source": [
    "import pandas as pd\n",
    "import networkx as nx"
   ]
  },
  {
   "cell_type": "code",
   "execution_count": 92,
   "metadata": {},
   "outputs": [],
   "source": [
    "metro_sp = pd.read_excel(\"sp_metro.xlsx\")"
   ]
  },
  {
   "cell_type": "code",
   "execution_count": 93,
   "metadata": {},
   "outputs": [
    {
     "data": {
      "text/plain": [
       "Index(['_estacaoId', '_nome', '_ordem', '_linhaId', '_linha', 'cor_linha',\n",
       "       '_tipoId', '_tipo', 'ordem_linha'],\n",
       "      dtype='object')"
      ]
     },
     "execution_count": 93,
     "metadata": {},
     "output_type": "execute_result"
    }
   ],
   "source": [
    "metro_sp.columns"
   ]
  },
  {
   "cell_type": "code",
   "execution_count": 94,
   "metadata": {
    "scrolled": true
   },
   "outputs": [
    {
     "data": {
      "text/plain": [
       "array(['Azul', 'Verde', 'Vermelha', 'Amarela', 'Lilás', 'Rubi',\n",
       "       'Diamante', 'Esmeralda', 'Turquesa', 'Coral', 'Safira', 'Jade',\n",
       "       'Prata', 'EMTU'], dtype=object)"
      ]
     },
     "execution_count": 94,
     "metadata": {},
     "output_type": "execute_result"
    }
   ],
   "source": [
    "metro_sp[\"cor_linha\"].unique()"
   ]
  },
  {
   "cell_type": "code",
   "execution_count": 95,
   "metadata": {},
   "outputs": [],
   "source": [
    "linhas_metro = {}\n",
    "\n",
    "for linha in metro_sp['cor_linha'].unique():\n",
    "    linhas_metro[linha] = metro_sp[metro_sp['cor_linha'] == linha].sort_values('ordem_linha')"
   ]
  },
  {
   "cell_type": "code",
   "execution_count": 96,
   "metadata": {},
   "outputs": [
    {
     "data": {
      "text/plain": [
       "'Tucuruvi'"
      ]
     },
     "execution_count": 96,
     "metadata": {},
     "output_type": "execute_result"
    }
   ],
   "source": [
    "linhas_metro['Azul']['_nome'].iloc[0]"
   ]
  },
  {
   "cell_type": "code",
   "execution_count": 97,
   "metadata": {},
   "outputs": [
    {
     "name": "stdout",
     "output_type": "stream",
     "text": [
      "Azul\n",
      "Verde\n",
      "Vermelha\n",
      "Amarela\n",
      "Lilás\n",
      "Rubi\n",
      "Diamante\n",
      "Esmeralda\n",
      "Turquesa\n",
      "Coral\n",
      "Safira\n",
      "Jade\n",
      "Prata\n",
      "EMTU\n"
     ]
    }
   ],
   "source": [
    "for chave in linhas_metro:\n",
    "    print(chave)"
   ]
  },
  {
   "cell_type": "code",
   "execution_count": 98,
   "metadata": {
    "scrolled": true
   },
   "outputs": [],
   "source": [
    "dic_gf_metro = {}\n",
    "\n",
    "for cor in linhas_metro:\n",
    "    #criando um grafo para cada linha do metro\n",
    "    dic_gf_metro[cor] = nx.Graph()\n",
    "    \n",
    "    #adicionando os nós\n",
    "    for estacao in linhas_metro[cor]['_nome']:\n",
    "        dic_gf_metro[cor].add_node(estacao)\n",
    "        \n",
    "    #adicionando os vertices\n",
    "    for i in range(len(linhas_metro[cor]['_nome'])-1):\n",
    "        dic_gf_metro[cor].add_edge(linhas_metro[cor]['_nome'].iloc[i], linhas_metro[cor]['_nome'].iloc[i+1])\n"
   ]
  },
  {
   "cell_type": "code",
   "execution_count": 100,
   "metadata": {},
   "outputs": [
    {
     "data": {
      "text/plain": [
       "NodeView(('São Mateus', 'Sônia Maria', 'Santo André', 'São Bernardo', 'Piraporinha', 'Diadema', 'Morumbi'))"
      ]
     },
     "execution_count": 100,
     "metadata": {},
     "output_type": "execute_result"
    }
   ],
   "source": [
    "dic_gf_metro['EMTU'].nodes()"
   ]
  },
  {
   "cell_type": "code",
   "execution_count": 101,
   "metadata": {},
   "outputs": [],
   "source": [
    "dic_gf_metro['EMTU'].add_node('Ferrazópolis')\n",
    "dic_gf_metro['EMTU'].add_node('Jabaquara')\n",
    "\n",
    "dic_gf_metro['EMTU'].add_edge('São Bernardo', 'Ferrazópolis')\n",
    "dic_gf_metro['EMTU'].add_edge('Diadema', 'Jabaquara')"
   ]
  },
  {
   "cell_type": "code",
   "execution_count": null,
   "metadata": {},
   "outputs": [],
   "source": []
  },
  {
   "cell_type": "code",
   "execution_count": null,
   "metadata": {},
   "outputs": [],
   "source": []
  },
  {
   "cell_type": "code",
   "execution_count": null,
   "metadata": {},
   "outputs": [],
   "source": []
  },
  {
   "cell_type": "code",
   "execution_count": null,
   "metadata": {},
   "outputs": [],
   "source": []
  },
  {
   "cell_type": "code",
   "execution_count": null,
   "metadata": {},
   "outputs": [],
   "source": []
  },
  {
   "cell_type": "code",
   "execution_count": null,
   "metadata": {},
   "outputs": [],
   "source": []
  },
  {
   "cell_type": "code",
   "execution_count": null,
   "metadata": {},
   "outputs": [],
   "source": []
  },
  {
   "cell_type": "code",
   "execution_count": null,
   "metadata": {},
   "outputs": [],
   "source": []
  }
 ],
 "metadata": {
  "kernelspec": {
   "display_name": "Python 3",
   "language": "python",
   "name": "python3"
  },
  "language_info": {
   "codemirror_mode": {
    "name": "ipython",
    "version": 3
   },
   "file_extension": ".py",
   "mimetype": "text/x-python",
   "name": "python",
   "nbconvert_exporter": "python",
   "pygments_lexer": "ipython3",
   "version": "3.8.5"
  }
 },
 "nbformat": 4,
 "nbformat_minor": 4
}
