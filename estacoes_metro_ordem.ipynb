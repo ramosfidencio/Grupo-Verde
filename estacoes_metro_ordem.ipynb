{
 "cells": [
  {
   "cell_type": "code",
   "execution_count": 28,
   "metadata": {},
   "outputs": [
    {
     "data": {
      "text/plain": [
       "['Jabaquara',\n",
       " 'Conceição',\n",
       " 'São Judas',\n",
       " 'Saúde',\n",
       " 'Praça da Árvore',\n",
       " 'Santa Cruz',\n",
       " 'Vila Mariana',\n",
       " 'Ana Rosa',\n",
       " 'Paraíso',\n",
       " 'Vergueiro',\n",
       " 'São Joaquim',\n",
       " 'Japão-Liberdade',\n",
       " 'Sé',\n",
       " 'São Bento',\n",
       " 'Luz',\n",
       " 'Tiradentes',\n",
       " 'Armênia',\n",
       " 'Portuguesa-Tietê',\n",
       " 'Carandiru',\n",
       " 'Santana',\n",
       " 'Jardim São Paulo-Ayrton Senna',\n",
       " 'Parada Inglesa',\n",
       " 'Tucuruvi']"
      ]
     },
     "execution_count": 28,
     "metadata": {},
     "output_type": "execute_result"
    }
   ],
   "source": [
    "import requests\n",
    "from bs4 import BeautifulSoup\n",
    "\n",
    "webpage = requests.get(\"http://www.metro.sp.gov.br/mobile/horario_operacao/horario_operacao_linha1.aspx\", \"html.parser\")\n",
    "soup = BeautifulSoup(webpage.content)\n",
    "#CAPTURANDO INFORMAÇÕES SOBRE AS ESTAÇÕES\n",
    "estacoes = soup.findAll('td')\n",
    "#CRIANDO LISTAS QUE CONTENHO SOMENTE A PARTE 'TEXTO' DE CADA INFORMAÇÃO\n",
    "estacoes_lista = [item.text for item in estacoes]\n",
    "\n",
    "linha_1 = []\n",
    "for i in range(len(estacoes_lista)):\n",
    "    if i % 3 == 0:\n",
    "        linha_1.append(estacoes_lista[i])\n",
    "linha_1"
   ]
  },
  {
   "cell_type": "code",
   "execution_count": 29,
   "metadata": {},
   "outputs": [
    {
     "data": {
      "text/plain": [
       "['Vila Prudente',\n",
       " 'Tamanduateí',\n",
       " 'Sacomã',\n",
       " 'Alto do Ipiranga',\n",
       " 'Imigrantes',\n",
       " 'Chácara Klabin',\n",
       " 'Ana Rosa',\n",
       " 'Paraíso',\n",
       " 'Brigadeiro',\n",
       " 'Trianon-Masp',\n",
       " 'Consolação',\n",
       " 'Clínicas',\n",
       " 'Santuário Nossa Senhora de Fátima-Sumaré',\n",
       " 'Vila Madalena']"
      ]
     },
     "execution_count": 29,
     "metadata": {},
     "output_type": "execute_result"
    }
   ],
   "source": [
    "webpage = requests.get(\"http://www.metro.sp.gov.br/mobile/horario_operacao/horario_operacao_linha2.aspx\", \"html.parser\")\n",
    "soup = BeautifulSoup(webpage.content)\n",
    "estacoes = soup.findAll('td')\n",
    "#CRIANDO LISTAS QUE CONTENHO SOMENTE A PARTE 'TEXTO' DE CADA INFORMAÇÃO\n",
    "estacoes_lista = [item.text for item in estacoes]\n",
    "linha_2 = []\n",
    "for i in range(len(estacoes_lista)):\n",
    "    if i % 3 == 0:\n",
    "        linha_2.append(estacoes_lista[i])\n",
    "linha_2"
   ]
  },
  {
   "cell_type": "code",
   "execution_count": 30,
   "metadata": {},
   "outputs": [
    {
     "data": {
      "text/plain": [
       "['Corinthians-Itaquera',\n",
       " 'Artur Alvim',\n",
       " 'Patriarca-Vila Ré',\n",
       " 'Guilhermina-Esperança',\n",
       " 'Vila Matilde',\n",
       " 'Penha',\n",
       " 'Carrão',\n",
       " 'Tatuapé',\n",
       " 'Belém',\n",
       " 'Bresser-Mooca',\n",
       " 'Brás',\n",
       " 'Pedro II',\n",
       " 'Sé',\n",
       " 'Anhangabaú',\n",
       " 'República',\n",
       " 'Santa Cecília',\n",
       " 'Marechal Deodoro',\n",
       " 'Palmeiras-Barra Funda']"
      ]
     },
     "execution_count": 30,
     "metadata": {},
     "output_type": "execute_result"
    }
   ],
   "source": [
    "webpage = requests.get(\"http://www.metro.sp.gov.br/mobile/horario_operacao/horario_operacao_linha3.aspx\", \"html.parser\")\n",
    "soup = BeautifulSoup(webpage.content)\n",
    "#CAPTURANDO INFORMAÇÕES SOBRE AS ESTAÇÕES\n",
    "estacoes = soup.findAll('td')\n",
    "#CRIANDO LISTAS QUE CONTENHO SOMENTE A PARTE 'TEXTO' DE CADA INFORMAÇÃO\n",
    "estacoes_lista = [item.text for item in estacoes]\n",
    "linha_3 = []\n",
    "for i in range(len(estacoes_lista)):\n",
    "    if i % 3 == 0:\n",
    "        linha_3.append(estacoes_lista[i])\n",
    "linha_3"
   ]
  },
  {
   "cell_type": "code",
   "execution_count": 31,
   "metadata": {},
   "outputs": [
    {
     "data": {
      "text/plain": [
       "['Luz',\n",
       " 'República',\n",
       " 'Higienópolis-Mackenzie',\n",
       " 'Paulista',\n",
       " 'Oscar Freire',\n",
       " 'Fradique Coutinho',\n",
       " 'Faria Lima',\n",
       " 'Pinheiros',\n",
       " 'Butantã']"
      ]
     },
     "execution_count": 31,
     "metadata": {},
     "output_type": "execute_result"
    }
   ],
   "source": [
    "webpage = requests.get(\"http://www.metro.sp.gov.br/mobile/horario_operacao/horario_operacao_linha4.aspx\", \"html.parser\")\n",
    "soup = BeautifulSoup(webpage.content)\n",
    "#CAPTURANDO INFORMAÇÕES SOBRE AS ESTAÇÕES\n",
    "estacoes = soup.findAll('td')\n",
    "#CRIANDO LISTAS QUE CONTENHO SOMENTE A PARTE 'TEXTO' DE CADA INFORMAÇÃO\n",
    "estacoes_lista = [item.text for item in estacoes]\n",
    "linha_4 = []\n",
    "for i in range(len(estacoes_lista)):\n",
    "    if i % 3 == 0:\n",
    "        linha_4.append(estacoes_lista[i])\n",
    "linha_4"
   ]
  },
  {
   "cell_type": "code",
   "execution_count": 32,
   "metadata": {},
   "outputs": [
    {
     "data": {
      "text/plain": [
       "['Capão Redondo',\n",
       " 'Campo Limpo',\n",
       " 'Vila das Belezas',\n",
       " 'Giovanni Gronchi',\n",
       " 'Santo Amaro',\n",
       " 'Largo Treze',\n",
       " 'Adolfo Pinheiro',\n",
       " 'Alto da Boa Vista',\n",
       " 'Borba Gato',\n",
       " 'Brooklin',\n",
       " 'Eucaliptos']"
      ]
     },
     "execution_count": 32,
     "metadata": {},
     "output_type": "execute_result"
    }
   ],
   "source": [
    "webpage = requests.get(\"http://www.metro.sp.gov.br/mobile/horario_operacao/horario_operacao_linha5.aspx\", \"html.parser\")\n",
    "soup = BeautifulSoup(webpage.content)\n",
    "#CAPTURANDO INFORMAÇÕES SOBRE AS ESTAÇÕES\n",
    "estacoes = soup.findAll('td')\n",
    "#CRIANDO LISTAS QUE CONTENHO SOMENTE A PARTE 'TEXTO' DE CADA INFORMAÇÃO\n",
    "estacoes_lista = [item.text for item in estacoes]\n",
    "linha_5 = []\n",
    "for i in range(len(estacoes_lista)):\n",
    "    if i % 3 == 0:\n",
    "        linha_5.append(estacoes_lista[i])\n",
    "linha_5"
   ]
  },
  {
   "cell_type": "code",
   "execution_count": 33,
   "metadata": {},
   "outputs": [
    {
     "data": {
      "text/plain": [
       "['Vila Prudente',\n",
       " 'Oratório',\n",
       " 'São Lucas',\n",
       " 'Camilo Haddad',\n",
       " 'Vila Tolstói',\n",
       " 'Vila União',\n",
       " 'Jardim Planalto',\n",
       " 'Sapobemba',\n",
       " 'Fazenda da Juta',\n",
       " 'São Mateus']"
      ]
     },
     "execution_count": 33,
     "metadata": {},
     "output_type": "execute_result"
    }
   ],
   "source": [
    "webpage = requests.get(\"http://www.metro.sp.gov.br/mobile/horario_operacao/horario_operacao_linha15.aspx\", \"html.parser\")\n",
    "soup = BeautifulSoup(webpage.content)\n",
    "#CAPTURANDO INFORMAÇÕES SOBRE AS ESTAÇÕES\n",
    "estacoes = soup.findAll('td')\n",
    "#CRIANDO LISTAS QUE CONTENHO SOMENTE A PARTE 'TEXTO' DE CADA INFORMAÇÃO\n",
    "estacoes_lista = [item.text for item in estacoes]\n",
    "linha_15 = []\n",
    "for i in range(len(estacoes_lista)):\n",
    "    if i % 3 == 0:\n",
    "        linha_15.append(estacoes_lista[i])\n",
    "linha_15"
   ]
  }
 ],
 "metadata": {
  "kernelspec": {
   "display_name": "Python 3",
   "language": "python",
   "name": "python3"
  },
  "language_info": {
   "codemirror_mode": {
    "name": "ipython",
    "version": 3
   },
   "file_extension": ".py",
   "mimetype": "text/x-python",
   "name": "python",
   "nbconvert_exporter": "python",
   "pygments_lexer": "ipython3",
   "version": "3.7.6"
  }
 },
 "nbformat": 4,
 "nbformat_minor": 4
}
